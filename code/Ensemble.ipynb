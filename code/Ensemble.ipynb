{
  "cells": [
    {
      "cell_type": "code",
      "execution_count": 4,
      "metadata": {
        "id": "3SkRQInRnaxA"
      },
      "outputs": [],
      "source": [
        "import numpy as np\n",
        "import pandas as pd\n",
        "import matplotlib.pyplot as plt\n",
        "import seaborn as sns\n",
        "\n",
        "from sklearn.experimental import enable_halving_search_cv\n",
        "from sklearn.model_selection import train_test_split, RandomizedSearchCV, GridSearchCV, HalvingRandomSearchCV, StratifiedKFold,PredefinedSplit\n",
        "from sklearn.compose import ColumnTransformer\n",
        "from sklearn.preprocessing import OneHotEncoder, StandardScaler, LabelEncoder, StandardScaler\n",
        "from sklearn.pipeline import Pipeline\n",
        "from sklearn.metrics import accuracy_score, ConfusionMatrixDisplay, classification_report, RocCurveDisplay\n",
        "from sklearn.ensemble import RandomForestClassifier, ExtraTreesClassifier, VotingClassifier\n",
        "from sklearn.decomposition import PCA\n",
        "from sklearn.naive_bayes import GaussianNB\n",
        "from sklearn.svm import SVC\n",
        "from imblearn.over_sampling import SMOTE\n",
        "from imblearn.ensemble import BalancedRandomForestClassifier\n",
        "from imblearn.pipeline import Pipeline as imbPipeline\n",
        "from sklearn.metrics import roc_auc_score, roc_curve, auc, confusion_matrix, plot_confusion_matrix, plot_roc_curve"
      ]
    },
    {
      "cell_type": "code",
      "execution_count": 2,
      "metadata": {},
      "outputs": [],
      "source": [
        "inlocal = True"
      ]
    },
    {
      "cell_type": "code",
      "execution_count": 2,
      "metadata": {
        "colab": {
          "base_uri": "https://localhost:8080/"
        },
        "id": "rqhLs89RnoCG",
        "outputId": "13dd1760-16a4-41bc-ba64-5ba238f7eddd"
      },
      "outputs": [
        {
          "name": "stdout",
          "output_type": "stream",
          "text": [
            "Mounted at /content/drive\n"
          ]
        }
      ],
      "source": [
        "if not inlocal:\n",
        "  from google.colab import drive\n",
        "  drive.mount('/content/drive')"
      ]
    },
    {
      "cell_type": "code",
      "execution_count": 5,
      "metadata": {
        "colab": {
          "base_uri": "https://localhost:8080/"
        },
        "id": "2LZA8p3WnaxF",
        "outputId": "d45ecc50-0d18-4307-9e9a-a11a1d848b81"
      },
      "outputs": [
        {
          "name": "stdout",
          "output_type": "stream",
          "text": [
            "Train set:  (74997, 55) (74997,)\n",
            "Validation set:  (15003, 55) (15003,)\n",
            "Test set:  (10000, 55) (10000,)\n"
          ]
        }
      ],
      "source": [
        "if inlocal:\n",
        "  train = pd.read_csv('../data/cleaned/train.csv')\n",
        "  val = pd.read_csv('../data/cleaned/val.csv')\n",
        "  test = pd.read_csv('../data/cleaned/test.csv')\n",
        "else: \n",
        "  train = pd.read_csv('/content/drive/MyDrive/projectML/Data/train.csv')\n",
        "  val = pd.read_csv('/content/drive/MyDrive/projectML/Data/val.csv')\n",
        "  test = pd.read_csv('/content/drive/MyDrive/projectML/Data/test.csv')\n",
        "\n",
        "target = 'Credit_Score'\n",
        "X_train, y_train = train.drop(target, axis=1), train[target]\n",
        "X_val, y_val = val.drop(target, axis=1), val[target]\n",
        "X_test, y_test = test.drop(target, axis=1), test[target]\n",
        "\n",
        "print('Train set: ', X_train.shape, y_train.shape)\n",
        "print('Validation set: ', X_val.shape, y_val.shape)\n",
        "print('Test set: ', X_test.shape, y_test.shape)"
      ]
    },
    {
      "cell_type": "code",
      "execution_count": 4,
      "metadata": {
        "id": "O2_N77N0naxI"
      },
      "outputs": [],
      "source": [
        "col_transformer = ColumnTransformer([\n",
        "    ('num', StandardScaler(), X_train.select_dtypes(include=np.float64).columns),\n",
        "], remainder='passthrough')\n",
        "X_train = col_transformer.fit_transform(X_train)\n",
        "X_val = col_transformer.transform(X_val)\n",
        "X_test = col_transformer.transform(X_test)"
      ]
    },
    {
      "cell_type": "code",
      "execution_count": 5,
      "metadata": {
        "id": "dJbB-XO2_-ju"
      },
      "outputs": [],
      "source": [
        "def create_pipeline_1():\n",
        "    return imbPipeline([\n",
        "        ('sampling', SMOTE(random_state=42)),\n",
        "        ('classifier', RandomForestClassifier(random_state=42))\n",
        "    ])"
      ]
    },
    {
      "cell_type": "markdown",
      "metadata": {
        "id": "eMvXVLi1naxJ"
      },
      "source": [
        "## Search for k_neighbors in smote"
      ]
    },
    {
      "cell_type": "code",
      "execution_count": null,
      "metadata": {
        "colab": {
          "base_uri": "https://localhost:8080/"
        },
        "id": "uBeclNEKnaxK",
        "outputId": "4f5efc1b-e1b1-4901-93f9-9131badea5a9"
      },
      "outputs": [
        {
          "name": "stdout",
          "output_type": "stream",
          "text": [
            "Fitting 1 folds for each of 17 candidates, totalling 17 fits\n"
          ]
        },
        {
          "name": "stderr",
          "output_type": "stream",
          "text": [
            "/usr/local/lib/python3.8/dist-packages/joblib/externals/loky/process_executor.py:700: UserWarning: A worker stopped while some jobs were given to the executor. This can be caused by a too short worker timeout or by a memory leak.\n",
            "  warnings.warn(\n"
          ]
        },
        {
          "data": {
            "text/plain": [
              "GridSearchCV(cv=PredefinedSplit(test_fold=array([-1, -1, ...,  0,  0])),\n",
              "             estimator=Pipeline(steps=[('sampling', SMOTE(random_state=42)),\n",
              "                                       ('classifier',\n",
              "                                        RandomForestClassifier(random_state=42))]),\n",
              "             n_jobs=-1,\n",
              "             param_grid={'sampling__k_neighbors': [3, 5, 7, 10, 15, 20, 30, 50,\n",
              "                                                   70, 90, 100, 120, 150, 200,\n",
              "                                                   300, 400, 800]},\n",
              "             refit=False, scoring='accuracy', verbose=1)"
            ]
          },
          "execution_count": 6,
          "metadata": {},
          "output_type": "execute_result"
        }
      ],
      "source": [
        "# search for k_neighbors in smote\n",
        "params_1 = {\n",
        "    'sampling__k_neighbors': [3, 5, 7, 10, 15, 20, 30, 50, 70, \\\n",
        "        90, 100, 120, 150, 200, 300, 400, 800], \n",
        "}\n",
        "search = GridSearchCV(\n",
        "    create_pipeline_1(), \n",
        "    params_1, \n",
        "    cv=PredefinedSplit(test_fold=np.concatenate([np.full(len(X_train), -1), np.zeros(len(X_val))])),\n",
        "    scoring='accuracy', \n",
        "    n_jobs=-1, \n",
        "    verbose=1,\n",
        "    refit=False\n",
        ")\n",
        "\n",
        "search.fit(np.concatenate([X_train, X_val]), np.concatenate([y_train, y_val]))"
      ]
    },
    {
      "cell_type": "code",
      "execution_count": null,
      "metadata": {
        "colab": {
          "base_uri": "https://localhost:8080/",
          "height": 405
        },
        "id": "nGzbdu8CnaxL",
        "outputId": "9d072eeb-c3ce-49de-ac98-ffd63a620462"
      },
      "outputs": [
        {
          "data": {
            "image/png": "[encoded data removed]",
            "text/plain": [
              "<Figure size 720x432 with 1 Axes>"
            ]
          },
          "metadata": {
            "needs_background": "light"
          },
          "output_type": "display_data"
        }
      ],
      "source": [
        "# plot the accuracy of each k_neighbors\n",
        "plt.figure(figsize=(10, 6))\n",
        "plt.plot(pd.DataFrame(search.cv_results_)['param_sampling__k_neighbors'], pd.DataFrame(search.cv_results_)['mean_test_score'])\n",
        "plt.title('Accuracy of each k_neighbors')\n",
        "plt.grid(True)\n",
        "plt.xlabel('k_neighbors')\n",
        "plt.ylabel('accuracy')\n",
        "plt.show()"
      ]
    },
    {
      "cell_type": "code",
      "execution_count": null,
      "metadata": {
        "colab": {
          "base_uri": "https://localhost:8080/",
          "height": 576
        },
        "id": "HwMWQVfLnaxL",
        "outputId": "fb69e068-6ec3-4523-eaab-8b720090578e"
      },
      "outputs": [
        {
          "data": {
            "text/html": [
              "\n",
              "  <div id=\"df-2674498e-7860-4c45-b69b-4a463db6f9e2\">\n",
              "    <div class=\"colab-df-container\">\n",
              "      <div>\n",
              "<style scoped>\n",
              "    .dataframe tbody tr th:only-of-type {\n",
              "        vertical-align: middle;\n",
              "    }\n",
              "\n",
              "    .dataframe tbody tr th {\n",
              "        vertical-align: top;\n",
              "    }\n",
              "\n",
              "    .dataframe thead th {\n",
              "        text-align: right;\n",
              "    }\n",
              "</style>\n",
              "<table border=\"1\" class=\"dataframe\">\n",
              "  <thead>\n",
              "    <tr style=\"text-align: right;\">\n",
              "      <th></th>\n",
              "      <th>param_sampling__k_neighbors</th>\n",
              "      <th>mean_test_score</th>\n",
              "    </tr>\n",
              "  </thead>\n",
              "  <tbody>\n",
              "    <tr>\n",
              "      <th>9</th>\n",
              "      <td>90</td>\n",
              "      <td>0.808905</td>\n",
              "    </tr>\n",
              "    <tr>\n",
              "      <th>13</th>\n",
              "      <td>200</td>\n",
              "      <td>0.808372</td>\n",
              "    </tr>\n",
              "    <tr>\n",
              "      <th>10</th>\n",
              "      <td>100</td>\n",
              "      <td>0.808105</td>\n",
              "    </tr>\n",
              "    <tr>\n",
              "      <th>15</th>\n",
              "      <td>400</td>\n",
              "      <td>0.807972</td>\n",
              "    </tr>\n",
              "    <tr>\n",
              "      <th>11</th>\n",
              "      <td>120</td>\n",
              "      <td>0.807705</td>\n",
              "    </tr>\n",
              "    <tr>\n",
              "      <th>16</th>\n",
              "      <td>800</td>\n",
              "      <td>0.807172</td>\n",
              "    </tr>\n",
              "    <tr>\n",
              "      <th>7</th>\n",
              "      <td>50</td>\n",
              "      <td>0.806772</td>\n",
              "    </tr>\n",
              "    <tr>\n",
              "      <th>14</th>\n",
              "      <td>300</td>\n",
              "      <td>0.806039</td>\n",
              "    </tr>\n",
              "    <tr>\n",
              "      <th>8</th>\n",
              "      <td>70</td>\n",
              "      <td>0.805706</td>\n",
              "    </tr>\n",
              "    <tr>\n",
              "      <th>12</th>\n",
              "      <td>150</td>\n",
              "      <td>0.805172</td>\n",
              "    </tr>\n",
              "    <tr>\n",
              "      <th>6</th>\n",
              "      <td>30</td>\n",
              "      <td>0.803906</td>\n",
              "    </tr>\n",
              "    <tr>\n",
              "      <th>5</th>\n",
              "      <td>20</td>\n",
              "      <td>0.800973</td>\n",
              "    </tr>\n",
              "    <tr>\n",
              "      <th>4</th>\n",
              "      <td>15</td>\n",
              "      <td>0.797041</td>\n",
              "    </tr>\n",
              "    <tr>\n",
              "      <th>3</th>\n",
              "      <td>10</td>\n",
              "      <td>0.789642</td>\n",
              "    </tr>\n",
              "    <tr>\n",
              "      <th>2</th>\n",
              "      <td>7</td>\n",
              "      <td>0.775578</td>\n",
              "    </tr>\n",
              "    <tr>\n",
              "      <th>1</th>\n",
              "      <td>5</td>\n",
              "      <td>0.767113</td>\n",
              "    </tr>\n",
              "    <tr>\n",
              "      <th>0</th>\n",
              "      <td>3</td>\n",
              "      <td>0.760181</td>\n",
              "    </tr>\n",
              "  </tbody>\n",
              "</table>\n",
              "</div>\n",
              "      <button class=\"colab-df-convert\" onclick=\"convertToInteractive('df-2674498e-7860-4c45-b69b-4a463db6f9e2')\"\n",
              "              title=\"Convert this dataframe to an interactive table.\"\n",
              "              style=\"display:none;\">\n",
              "        \n",
              "  <svg xmlns=\"http://www.w3.org/2000/svg\" height=\"24px\"viewBox=\"0 0 24 24\"\n",
              "       width=\"24px\">\n",
              "    <path d=\"M0 0h24v24H0V0z\" fill=\"none\"/>\n",
              "    <path d=\"M18.56 5.44l.94 2.06.94-2.06 2.06-.94-2.06-.94-.94-2.06-.94 2.06-2.06.94zm-11 1L8.5 8.5l.94-2.06 2.06-.94-2.06-.94L8.5 2.5l-.94 2.06-2.06.94zm10 10l.94 2.06.94-2.06 2.06-.94-2.06-.94-.94-2.06-.94 2.06-2.06.94z\"/><path d=\"M17.41 7.96l-1.37-1.37c-.4-.4-.92-.59-1.43-.59-.52 0-1.04.2-1.43.59L10.3 9.45l-7.72 7.72c-.78.78-.78 2.05 0 2.83L4 21.41c.39.39.9.59 1.41.59.51 0 1.02-.2 1.41-.59l7.78-7.78 2.81-2.81c.8-.78.8-2.07 0-2.86zM5.41 20L4 18.59l7.72-7.72 1.47 1.35L5.41 20z\"/>\n",
              "  </svg>\n",
              "      </button>\n",
              "      \n",
              "  <style>\n",
              "    .colab-df-container {\n",
              "      display:flex;\n",
              "      flex-wrap:wrap;\n",
              "      gap: 12px;\n",
              "    }\n",
              "\n",
              "    .colab-df-convert {\n",
              "      background-color: #E8F0FE;\n",
              "      border: none;\n",
              "      border-radius: 50%;\n",
              "      cursor: pointer;\n",
              "      display: none;\n",
              "      fill: #1967D2;\n",
              "      height: 32px;\n",
              "      padding: 0 0 0 0;\n",
              "      width: 32px;\n",
              "    }\n",
              "\n",
              "    .colab-df-convert:hover {\n",
              "      background-color: #E2EBFA;\n",
              "      box-shadow: 0px 1px 2px rgba(60, 64, 67, 0.3), 0px 1px 3px 1px rgba(60, 64, 67, 0.15);\n",
              "      fill: #174EA6;\n",
              "    }\n",
              "\n",
              "    [theme=dark] .colab-df-convert {\n",
              "      background-color: #3B4455;\n",
              "      fill: #D2E3FC;\n",
              "    }\n",
              "\n",
              "    [theme=dark] .colab-df-convert:hover {\n",
              "      background-color: #434B5C;\n",
              "      box-shadow: 0px 1px 3px 1px rgba(0, 0, 0, 0.15);\n",
              "      filter: drop-shadow(0px 1px 2px rgba(0, 0, 0, 0.3));\n",
              "      fill: #FFFFFF;\n",
              "    }\n",
              "  </style>\n",
              "\n",
              "      <script>\n",
              "        const buttonEl =\n",
              "          document.querySelector('#df-2674498e-7860-4c45-b69b-4a463db6f9e2 button.colab-df-convert');\n",
              "        buttonEl.style.display =\n",
              "          google.colab.kernel.accessAllowed ? 'block' : 'none';\n",
              "\n",
              "        async function convertToInteractive(key) {\n",
              "          const element = document.querySelector('#df-2674498e-7860-4c45-b69b-4a463db6f9e2');\n",
              "          const dataTable =\n",
              "            await google.colab.kernel.invokeFunction('convertToInteractive',\n",
              "                                                     [key], {});\n",
              "          if (!dataTable) return;\n",
              "\n",
              "          const docLinkHtml = 'Like what you see? Visit the ' +\n",
              "            '<a target=\"_blank\" href=https://colab.research.google.com/notebooks/data_table.ipynb>data table notebook</a>'\n",
              "            + ' to learn more about interactive tables.';\n",
              "          element.innerHTML = '';\n",
              "          dataTable['output_type'] = 'display_data';\n",
              "          await google.colab.output.renderOutput(dataTable, element);\n",
              "          const docLink = document.createElement('div');\n",
              "          docLink.innerHTML = docLinkHtml;\n",
              "          element.appendChild(docLink);\n",
              "        }\n",
              "      </script>\n",
              "    </div>\n",
              "  </div>\n",
              "  "
            ],
            "text/plain": [
              "   param_sampling__k_neighbors  mean_test_score\n",
              "9                           90         0.808905\n",
              "13                         200         0.808372\n",
              "10                         100         0.808105\n",
              "15                         400         0.807972\n",
              "11                         120         0.807705\n",
              "16                         800         0.807172\n",
              "7                           50         0.806772\n",
              "14                         300         0.806039\n",
              "8                           70         0.805706\n",
              "12                         150         0.805172\n",
              "6                           30         0.803906\n",
              "5                           20         0.800973\n",
              "4                           15         0.797041\n",
              "3                           10         0.789642\n",
              "2                            7         0.775578\n",
              "1                            5         0.767113\n",
              "0                            3         0.760181"
            ]
          },
          "execution_count": 8,
          "metadata": {},
          "output_type": "execute_result"
        }
      ],
      "source": [
        "pd.DataFrame(search.cv_results_)[['param_sampling__k_neighbors', 'mean_test_score']].sort_values(by='mean_test_score', ascending=False)"
      ]
    },
    {
      "cell_type": "code",
      "execution_count": null,
      "metadata": {
        "id": "O7yjjfLhnaxM"
      },
      "outputs": [],
      "source": [
        "# Best k_neighbors for smote is 90"
      ]
    },
    {
      "cell_type": "code",
      "execution_count": 10,
      "metadata": {
        "id": "vLzSJxxKr2c0"
      },
      "outputs": [],
      "source": [
        "# sample 50% of train set to reduce search time in random search\n",
        "X_train_sample, _, y_train_sample, _ = train_test_split(\n",
        "    X_train, y_train, \n",
        "    test_size=0.5, \n",
        "    random_state=42, \n",
        "    stratify=y_train\n",
        ")"
      ]
    },
    {
      "cell_type": "markdown",
      "metadata": {
        "id": "fWZ7u3tbnaxM"
      },
      "source": [
        "## Search for hyperparameters in random forest"
      ]
    },
    {
      "cell_type": "code",
      "execution_count": 13,
      "metadata": {
        "id": "ceQk9iQInaxM"
      },
      "outputs": [],
      "source": [
        "rf_params = {\n",
        "    'sampling__k_neighbors': [90],\n",
        "    'classifier__n_estimators': [100, 200],\n",
        "    'classifier__max_depth': [None],\n",
        "    'classifier__min_samples_split': [2, 3, 5, 10, 20],\n",
        "    'classifier__min_samples_leaf': [1, 2, 5, 7, 10],\n",
        "    'classifier__max_features': [6,7,8],\n",
        "}\n",
        "rf_rnd_search = RandomizedSearchCV(\n",
        "    create_pipeline_1(), \n",
        "    rf_params,\n",
        "    cv=PredefinedSplit(test_fold=np.concatenate([np.full(len(X_train_sample), -1), np.zeros(len(X_val))])),\n",
        "    scoring='accuracy', \n",
        "    verbose=1, \n",
        "    random_state=42,\n",
        "    refit=False,\n",
        "    n_iter=100\n",
        ")"
      ]
    },
    {
      "cell_type": "code",
      "execution_count": null,
      "metadata": {
        "id": "AEepznksnaxN"
      },
      "outputs": [],
      "source": [
        "rf_rnd_search.fit(np.concatenate([X_train_sample, X_val]), np.concatenate([y_train_sample, y_val]))\n",
        "print('Best params: ', rf_rnd_search.best_params_)\n",
        "print('Best score: ', rf_rnd_search.best_score_)"
      ]
    },
    {
      "cell_type": "code",
      "execution_count": 18,
      "metadata": {
        "colab": {
          "base_uri": "https://localhost:8080/",
          "height": 359
        },
        "id": "DROSGHLvTvGi",
        "outputId": "77a78de5-6e67-47b4-8764-66abb0128f35"
      },
      "outputs": [
        {
          "data": {
            "text/html": [
              "\n",
              "  <div id=\"df-475e3974-428d-4e47-96e3-8096d8ac0634\">\n",
              "    <div class=\"colab-df-container\">\n",
              "      <div>\n",
              "<style scoped>\n",
              "    .dataframe tbody tr th:only-of-type {\n",
              "        vertical-align: middle;\n",
              "    }\n",
              "\n",
              "    .dataframe tbody tr th {\n",
              "        vertical-align: top;\n",
              "    }\n",
              "\n",
              "    .dataframe thead th {\n",
              "        text-align: right;\n",
              "    }\n",
              "</style>\n",
              "<table border=\"1\" class=\"dataframe\">\n",
              "  <thead>\n",
              "    <tr style=\"text-align: right;\">\n",
              "      <th></th>\n",
              "      <th>params</th>\n",
              "      <th>mean_test_score</th>\n",
              "      <th>std_test_score</th>\n",
              "    </tr>\n",
              "  </thead>\n",
              "  <tbody>\n",
              "    <tr>\n",
              "      <th>73</th>\n",
              "      <td>{'sampling__k_neighbors': 90, 'classifier__n_e...</td>\n",
              "      <td>0.783977</td>\n",
              "      <td>0.0</td>\n",
              "    </tr>\n",
              "    <tr>\n",
              "      <th>36</th>\n",
              "      <td>{'sampling__k_neighbors': 90, 'classifier__n_e...</td>\n",
              "      <td>0.783110</td>\n",
              "      <td>0.0</td>\n",
              "    </tr>\n",
              "    <tr>\n",
              "      <th>77</th>\n",
              "      <td>{'sampling__k_neighbors': 90, 'classifier__n_e...</td>\n",
              "      <td>0.781644</td>\n",
              "      <td>0.0</td>\n",
              "    </tr>\n",
              "    <tr>\n",
              "      <th>80</th>\n",
              "      <td>{'sampling__k_neighbors': 90, 'classifier__n_e...</td>\n",
              "      <td>0.779977</td>\n",
              "      <td>0.0</td>\n",
              "    </tr>\n",
              "    <tr>\n",
              "      <th>70</th>\n",
              "      <td>{'sampling__k_neighbors': 90, 'classifier__n_e...</td>\n",
              "      <td>0.779977</td>\n",
              "      <td>0.0</td>\n",
              "    </tr>\n",
              "    <tr>\n",
              "      <th>51</th>\n",
              "      <td>{'sampling__k_neighbors': 90, 'classifier__n_e...</td>\n",
              "      <td>0.779711</td>\n",
              "      <td>0.0</td>\n",
              "    </tr>\n",
              "    <tr>\n",
              "      <th>16</th>\n",
              "      <td>{'sampling__k_neighbors': 90, 'classifier__n_e...</td>\n",
              "      <td>0.779377</td>\n",
              "      <td>0.0</td>\n",
              "    </tr>\n",
              "    <tr>\n",
              "      <th>18</th>\n",
              "      <td>{'sampling__k_neighbors': 90, 'classifier__n_e...</td>\n",
              "      <td>0.779311</td>\n",
              "      <td>0.0</td>\n",
              "    </tr>\n",
              "    <tr>\n",
              "      <th>53</th>\n",
              "      <td>{'sampling__k_neighbors': 90, 'classifier__n_e...</td>\n",
              "      <td>0.778778</td>\n",
              "      <td>0.0</td>\n",
              "    </tr>\n",
              "    <tr>\n",
              "      <th>10</th>\n",
              "      <td>{'sampling__k_neighbors': 90, 'classifier__n_e...</td>\n",
              "      <td>0.778378</td>\n",
              "      <td>0.0</td>\n",
              "    </tr>\n",
              "  </tbody>\n",
              "</table>\n",
              "</div>\n",
              "      <button class=\"colab-df-convert\" onclick=\"convertToInteractive('df-475e3974-428d-4e47-96e3-8096d8ac0634')\"\n",
              "              title=\"Convert this dataframe to an interactive table.\"\n",
              "              style=\"display:none;\">\n",
              "        \n",
              "  <svg xmlns=\"http://www.w3.org/2000/svg\" height=\"24px\"viewBox=\"0 0 24 24\"\n",
              "       width=\"24px\">\n",
              "    <path d=\"M0 0h24v24H0V0z\" fill=\"none\"/>\n",
              "    <path d=\"M18.56 5.44l.94 2.06.94-2.06 2.06-.94-2.06-.94-.94-2.06-.94 2.06-2.06.94zm-11 1L8.5 8.5l.94-2.06 2.06-.94-2.06-.94L8.5 2.5l-.94 2.06-2.06.94zm10 10l.94 2.06.94-2.06 2.06-.94-2.06-.94-.94-2.06-.94 2.06-2.06.94z\"/><path d=\"M17.41 7.96l-1.37-1.37c-.4-.4-.92-.59-1.43-.59-.52 0-1.04.2-1.43.59L10.3 9.45l-7.72 7.72c-.78.78-.78 2.05 0 2.83L4 21.41c.39.39.9.59 1.41.59.51 0 1.02-.2 1.41-.59l7.78-7.78 2.81-2.81c.8-.78.8-2.07 0-2.86zM5.41 20L4 18.59l7.72-7.72 1.47 1.35L5.41 20z\"/>\n",
              "  </svg>\n",
              "      </button>\n",
              "      \n",
              "  <style>\n",
              "    .colab-df-container {\n",
              "      display:flex;\n",
              "      flex-wrap:wrap;\n",
              "      gap: 12px;\n",
              "    }\n",
              "\n",
              "    .colab-df-convert {\n",
              "      background-color: #E8F0FE;\n",
              "      border: none;\n",
              "      border-radius: 50%;\n",
              "      cursor: pointer;\n",
              "      display: none;\n",
              "      fill: #1967D2;\n",
              "      height: 32px;\n",
              "      padding: 0 0 0 0;\n",
              "      width: 32px;\n",
              "    }\n",
              "\n",
              "    .colab-df-convert:hover {\n",
              "      background-color: #E2EBFA;\n",
              "      box-shadow: 0px 1px 2px rgba(60, 64, 67, 0.3), 0px 1px 3px 1px rgba(60, 64, 67, 0.15);\n",
              "      fill: #174EA6;\n",
              "    }\n",
              "\n",
              "    [theme=dark] .colab-df-convert {\n",
              "      background-color: #3B4455;\n",
              "      fill: #D2E3FC;\n",
              "    }\n",
              "\n",
              "    [theme=dark] .colab-df-convert:hover {\n",
              "      background-color: #434B5C;\n",
              "      box-shadow: 0px 1px 3px 1px rgba(0, 0, 0, 0.15);\n",
              "      filter: drop-shadow(0px 1px 2px rgba(0, 0, 0, 0.3));\n",
              "      fill: #FFFFFF;\n",
              "    }\n",
              "  </style>\n",
              "\n",
              "      <script>\n",
              "        const buttonEl =\n",
              "          document.querySelector('#df-475e3974-428d-4e47-96e3-8096d8ac0634 button.colab-df-convert');\n",
              "        buttonEl.style.display =\n",
              "          google.colab.kernel.accessAllowed ? 'block' : 'none';\n",
              "\n",
              "        async function convertToInteractive(key) {\n",
              "          const element = document.querySelector('#df-475e3974-428d-4e47-96e3-8096d8ac0634');\n",
              "          const dataTable =\n",
              "            await google.colab.kernel.invokeFunction('convertToInteractive',\n",
              "                                                     [key], {});\n",
              "          if (!dataTable) return;\n",
              "\n",
              "          const docLinkHtml = 'Like what you see? Visit the ' +\n",
              "            '<a target=\"_blank\" href=https://colab.research.google.com/notebooks/data_table.ipynb>data table notebook</a>'\n",
              "            + ' to learn more about interactive tables.';\n",
              "          element.innerHTML = '';\n",
              "          dataTable['output_type'] = 'display_data';\n",
              "          await google.colab.output.renderOutput(dataTable, element);\n",
              "          const docLink = document.createElement('div');\n",
              "          docLink.innerHTML = docLinkHtml;\n",
              "          element.appendChild(docLink);\n",
              "        }\n",
              "      </script>\n",
              "    </div>\n",
              "  </div>\n",
              "  "
            ],
            "text/plain": [
              "                                               params  mean_test_score  \\\n",
              "73  {'sampling__k_neighbors': 90, 'classifier__n_e...         0.783977   \n",
              "36  {'sampling__k_neighbors': 90, 'classifier__n_e...         0.783110   \n",
              "77  {'sampling__k_neighbors': 90, 'classifier__n_e...         0.781644   \n",
              "80  {'sampling__k_neighbors': 90, 'classifier__n_e...         0.779977   \n",
              "70  {'sampling__k_neighbors': 90, 'classifier__n_e...         0.779977   \n",
              "51  {'sampling__k_neighbors': 90, 'classifier__n_e...         0.779711   \n",
              "16  {'sampling__k_neighbors': 90, 'classifier__n_e...         0.779377   \n",
              "18  {'sampling__k_neighbors': 90, 'classifier__n_e...         0.779311   \n",
              "53  {'sampling__k_neighbors': 90, 'classifier__n_e...         0.778778   \n",
              "10  {'sampling__k_neighbors': 90, 'classifier__n_e...         0.778378   \n",
              "\n",
              "    std_test_score  \n",
              "73             0.0  \n",
              "36             0.0  \n",
              "77             0.0  \n",
              "80             0.0  \n",
              "70             0.0  \n",
              "51             0.0  \n",
              "16             0.0  \n",
              "18             0.0  \n",
              "53             0.0  \n",
              "10             0.0  "
            ]
          },
          "execution_count": 18,
          "metadata": {},
          "output_type": "execute_result"
        }
      ],
      "source": [
        "pd.DataFrame(rf_rnd_search.cv_results_)[['params', 'mean_test_score', 'std_test_score']].sort_values('mean_test_score', ascending=False).head(10)"
      ]
    },
    {
      "cell_type": "code",
      "execution_count": 20,
      "metadata": {
        "colab": {
          "base_uri": "https://localhost:8080/"
        },
        "id": "UKzBgXw0naxN",
        "outputId": "8b3da30f-1fd7-44f2-e07c-7965d90aec3a"
      },
      "outputs": [
        {
          "data": {
            "text/plain": [
              "{'sampling__k_neighbors': 90,\n",
              " 'classifier__n_estimators': 200,\n",
              " 'classifier__min_samples_split': 2,\n",
              " 'classifier__min_samples_leaf': 1,\n",
              " 'classifier__max_features': 8,\n",
              " 'classifier__max_depth': None}"
            ]
          },
          "execution_count": 20,
          "metadata": {},
          "output_type": "execute_result"
        }
      ],
      "source": [
        "rf_rnd_search.best_params_"
      ]
    },
    {
      "cell_type": "code",
      "execution_count": 31,
      "metadata": {
        "colab": {
          "base_uri": "https://localhost:8080/"
        },
        "id": "JTsTF_5NSohp",
        "outputId": "ce8dbeca-8577-4b51-abdb-7aafb0c4527d"
      },
      "outputs": [
        {
          "name": "stdout",
          "output_type": "stream",
          "text": [
            "Params:  {'sampling__k_neighbors': 90, 'classifier__n_estimators': 200, 'classifier__min_samples_split': 2, 'classifier__min_samples_leaf': 1, 'classifier__max_features': 8, 'classifier__max_depth': None}\n",
            "Accuracy:  0.8076384723055389\n",
            "------------------------------------------------------------ \n",
            "\n",
            "\n",
            "Params:  {'sampling__k_neighbors': 90, 'classifier__n_estimators': 200, 'classifier__min_samples_split': 2, 'classifier__min_samples_leaf': 1, 'classifier__max_features': 7, 'classifier__max_depth': None}\n",
            "Accuracy:  0.8093714590415251\n",
            "------------------------------------------------------------ \n",
            "\n",
            "\n",
            "Params:  {'sampling__k_neighbors': 90, 'classifier__n_estimators': 200, 'classifier__min_samples_split': 3, 'classifier__min_samples_leaf': 1, 'classifier__max_features': 7, 'classifier__max_depth': None}\n",
            "Accuracy:  0.8084383123375325\n",
            "------------------------------------------------------------ \n",
            "\n",
            "\n"
          ]
        }
      ],
      "source": [
        "# retrain top 3 params on full train set and evaluate result\n",
        "top3_rf_params = pd.DataFrame(rf_rnd_search.cv_results_)[['params', 'mean_test_score', 'std_test_score']].sort_values('mean_test_score', ascending=False).head(3)['params'].values\n",
        "for params in top3_rf_params:\n",
        "    rf = create_pipeline_1()\n",
        "    rf.set_params(**params)\n",
        "    rf.fit(X_train, y_train)\n",
        "    y_pred = rf.predict(X_val)\n",
        "    print('Params: ', params)\n",
        "    print('Accuracy: ', accuracy_score(y_val, y_pred))\n",
        "    print('---'*20, '\\n\\n')\n"
      ]
    },
    {
      "cell_type": "markdown",
      "metadata": {
        "id": "1DdT9xrtnaxO"
      },
      "source": [
        "## Search for hyperparameters in Extratree"
      ]
    },
    {
      "cell_type": "code",
      "execution_count": 21,
      "metadata": {
        "id": "3T-d6vqNnaxO"
      },
      "outputs": [],
      "source": [
        "def create_pipeline_2():\n",
        "    return imbPipeline([\n",
        "        ('sampling', SMOTE(random_state=42)),\n",
        "        ('classifier', ExtraTreesClassifier(random_state=42))\n",
        "    ])"
      ]
    },
    {
      "cell_type": "code",
      "execution_count": 25,
      "metadata": {
        "id": "s8yFm6u0naxO"
      },
      "outputs": [],
      "source": [
        "et_params = {\n",
        "    'sampling__k_neighbors': [90],\n",
        "    'classifier__n_estimators': [100, 200],\n",
        "    'classifier__max_depth': [None],\n",
        "    'classifier__min_samples_split': [2, 3, 5, 10, 20],\n",
        "    'classifier__min_samples_leaf': [1, 2, 5, 7, 10],\n",
        "    'classifier__max_features': [6,7,8],\n",
        "}\n",
        "\n",
        "et_rnd_search = RandomizedSearchCV(\n",
        "    create_pipeline_1(), \n",
        "    et_params, \n",
        "    cv=PredefinedSplit(test_fold=np.concatenate([np.full(len(X_train_sample), -1), np.zeros(len(X_val))])),\n",
        "    scoring='accuracy', \n",
        "    n_jobs=-1, \n",
        "    verbose=2, \n",
        "    n_iter=100, \n",
        "    random_state=42\n",
        ")"
      ]
    },
    {
      "cell_type": "code",
      "execution_count": 26,
      "metadata": {
        "colab": {
          "base_uri": "https://localhost:8080/",
          "height": 490
        },
        "id": "jNjTrYXWnaxP",
        "outputId": "ea3ade23-af10-4786-99c8-81e9eb1ff23f"
      },
      "outputs": [
        {
          "name": "stdout",
          "output_type": "stream",
          "text": [
            "Fitting 1 folds for each of 100 candidates, totalling 100 fits\n"
          ]
        },
        {
          "name": "stderr",
          "output_type": "stream",
          "text": [
            "/usr/local/lib/python3.8/dist-packages/joblib/externals/loky/process_executor.py:700: UserWarning: A worker stopped while some jobs were given to the executor. This can be caused by a too short worker timeout or by a memory leak.\n",
            "  warnings.warn(\n"
          ]
        },
        {
          "data": {
            "text/html": [
              "\n",
              "  <div id=\"df-0fc109f5-bce3-422c-840f-3083485461d1\">\n",
              "    <div class=\"colab-df-container\">\n",
              "      <div>\n",
              "<style scoped>\n",
              "    .dataframe tbody tr th:only-of-type {\n",
              "        vertical-align: middle;\n",
              "    }\n",
              "\n",
              "    .dataframe tbody tr th {\n",
              "        vertical-align: top;\n",
              "    }\n",
              "\n",
              "    .dataframe thead th {\n",
              "        text-align: right;\n",
              "    }\n",
              "</style>\n",
              "<table border=\"1\" class=\"dataframe\">\n",
              "  <thead>\n",
              "    <tr style=\"text-align: right;\">\n",
              "      <th></th>\n",
              "      <th>params</th>\n",
              "      <th>mean_test_score</th>\n",
              "      <th>std_test_score</th>\n",
              "    </tr>\n",
              "  </thead>\n",
              "  <tbody>\n",
              "    <tr>\n",
              "      <th>73</th>\n",
              "      <td>{'sampling__k_neighbors': 90, 'classifier__n_e...</td>\n",
              "      <td>0.783977</td>\n",
              "      <td>0.0</td>\n",
              "    </tr>\n",
              "    <tr>\n",
              "      <th>36</th>\n",
              "      <td>{'sampling__k_neighbors': 90, 'classifier__n_e...</td>\n",
              "      <td>0.783110</td>\n",
              "      <td>0.0</td>\n",
              "    </tr>\n",
              "    <tr>\n",
              "      <th>77</th>\n",
              "      <td>{'sampling__k_neighbors': 90, 'classifier__n_e...</td>\n",
              "      <td>0.781644</td>\n",
              "      <td>0.0</td>\n",
              "    </tr>\n",
              "    <tr>\n",
              "      <th>80</th>\n",
              "      <td>{'sampling__k_neighbors': 90, 'classifier__n_e...</td>\n",
              "      <td>0.779977</td>\n",
              "      <td>0.0</td>\n",
              "    </tr>\n",
              "    <tr>\n",
              "      <th>70</th>\n",
              "      <td>{'sampling__k_neighbors': 90, 'classifier__n_e...</td>\n",
              "      <td>0.779977</td>\n",
              "      <td>0.0</td>\n",
              "    </tr>\n",
              "    <tr>\n",
              "      <th>...</th>\n",
              "      <td>...</td>\n",
              "      <td>...</td>\n",
              "      <td>...</td>\n",
              "    </tr>\n",
              "    <tr>\n",
              "      <th>68</th>\n",
              "      <td>{'sampling__k_neighbors': 90, 'classifier__n_e...</td>\n",
              "      <td>0.734320</td>\n",
              "      <td>0.0</td>\n",
              "    </tr>\n",
              "    <tr>\n",
              "      <th>28</th>\n",
              "      <td>{'sampling__k_neighbors': 90, 'classifier__n_e...</td>\n",
              "      <td>0.734320</td>\n",
              "      <td>0.0</td>\n",
              "    </tr>\n",
              "    <tr>\n",
              "      <th>58</th>\n",
              "      <td>{'sampling__k_neighbors': 90, 'classifier__n_e...</td>\n",
              "      <td>0.732454</td>\n",
              "      <td>0.0</td>\n",
              "    </tr>\n",
              "    <tr>\n",
              "      <th>57</th>\n",
              "      <td>{'sampling__k_neighbors': 90, 'classifier__n_e...</td>\n",
              "      <td>0.732454</td>\n",
              "      <td>0.0</td>\n",
              "    </tr>\n",
              "    <tr>\n",
              "      <th>34</th>\n",
              "      <td>{'sampling__k_neighbors': 90, 'classifier__n_e...</td>\n",
              "      <td>0.732454</td>\n",
              "      <td>0.0</td>\n",
              "    </tr>\n",
              "  </tbody>\n",
              "</table>\n",
              "<p>100 rows × 3 columns</p>\n",
              "</div>\n",
              "      <button class=\"colab-df-convert\" onclick=\"convertToInteractive('df-0fc109f5-bce3-422c-840f-3083485461d1')\"\n",
              "              title=\"Convert this dataframe to an interactive table.\"\n",
              "              style=\"display:none;\">\n",
              "        \n",
              "  <svg xmlns=\"http://www.w3.org/2000/svg\" height=\"24px\"viewBox=\"0 0 24 24\"\n",
              "       width=\"24px\">\n",
              "    <path d=\"M0 0h24v24H0V0z\" fill=\"none\"/>\n",
              "    <path d=\"M18.56 5.44l.94 2.06.94-2.06 2.06-.94-2.06-.94-.94-2.06-.94 2.06-2.06.94zm-11 1L8.5 8.5l.94-2.06 2.06-.94-2.06-.94L8.5 2.5l-.94 2.06-2.06.94zm10 10l.94 2.06.94-2.06 2.06-.94-2.06-.94-.94-2.06-.94 2.06-2.06.94z\"/><path d=\"M17.41 7.96l-1.37-1.37c-.4-.4-.92-.59-1.43-.59-.52 0-1.04.2-1.43.59L10.3 9.45l-7.72 7.72c-.78.78-.78 2.05 0 2.83L4 21.41c.39.39.9.59 1.41.59.51 0 1.02-.2 1.41-.59l7.78-7.78 2.81-2.81c.8-.78.8-2.07 0-2.86zM5.41 20L4 18.59l7.72-7.72 1.47 1.35L5.41 20z\"/>\n",
              "  </svg>\n",
              "      </button>\n",
              "      \n",
              "  <style>\n",
              "    .colab-df-container {\n",
              "      display:flex;\n",
              "      flex-wrap:wrap;\n",
              "      gap: 12px;\n",
              "    }\n",
              "\n",
              "    .colab-df-convert {\n",
              "      background-color: #E8F0FE;\n",
              "      border: none;\n",
              "      border-radius: 50%;\n",
              "      cursor: pointer;\n",
              "      display: none;\n",
              "      fill: #1967D2;\n",
              "      height: 32px;\n",
              "      padding: 0 0 0 0;\n",
              "      width: 32px;\n",
              "    }\n",
              "\n",
              "    .colab-df-convert:hover {\n",
              "      background-color: #E2EBFA;\n",
              "      box-shadow: 0px 1px 2px rgba(60, 64, 67, 0.3), 0px 1px 3px 1px rgba(60, 64, 67, 0.15);\n",
              "      fill: #174EA6;\n",
              "    }\n",
              "\n",
              "    [theme=dark] .colab-df-convert {\n",
              "      background-color: #3B4455;\n",
              "      fill: #D2E3FC;\n",
              "    }\n",
              "\n",
              "    [theme=dark] .colab-df-convert:hover {\n",
              "      background-color: #434B5C;\n",
              "      box-shadow: 0px 1px 3px 1px rgba(0, 0, 0, 0.15);\n",
              "      filter: drop-shadow(0px 1px 2px rgba(0, 0, 0, 0.3));\n",
              "      fill: #FFFFFF;\n",
              "    }\n",
              "  </style>\n",
              "\n",
              "      <script>\n",
              "        const buttonEl =\n",
              "          document.querySelector('#df-0fc109f5-bce3-422c-840f-3083485461d1 button.colab-df-convert');\n",
              "        buttonEl.style.display =\n",
              "          google.colab.kernel.accessAllowed ? 'block' : 'none';\n",
              "\n",
              "        async function convertToInteractive(key) {\n",
              "          const element = document.querySelector('#df-0fc109f5-bce3-422c-840f-3083485461d1');\n",
              "          const dataTable =\n",
              "            await google.colab.kernel.invokeFunction('convertToInteractive',\n",
              "                                                     [key], {});\n",
              "          if (!dataTable) return;\n",
              "\n",
              "          const docLinkHtml = 'Like what you see? Visit the ' +\n",
              "            '<a target=\"_blank\" href=https://colab.research.google.com/notebooks/data_table.ipynb>data table notebook</a>'\n",
              "            + ' to learn more about interactive tables.';\n",
              "          element.innerHTML = '';\n",
              "          dataTable['output_type'] = 'display_data';\n",
              "          await google.colab.output.renderOutput(dataTable, element);\n",
              "          const docLink = document.createElement('div');\n",
              "          docLink.innerHTML = docLinkHtml;\n",
              "          element.appendChild(docLink);\n",
              "        }\n",
              "      </script>\n",
              "    </div>\n",
              "  </div>\n",
              "  "
            ],
            "text/plain": [
              "                                               params  mean_test_score  \\\n",
              "73  {'sampling__k_neighbors': 90, 'classifier__n_e...         0.783977   \n",
              "36  {'sampling__k_neighbors': 90, 'classifier__n_e...         0.783110   \n",
              "77  {'sampling__k_neighbors': 90, 'classifier__n_e...         0.781644   \n",
              "80  {'sampling__k_neighbors': 90, 'classifier__n_e...         0.779977   \n",
              "70  {'sampling__k_neighbors': 90, 'classifier__n_e...         0.779977   \n",
              "..                                                ...              ...   \n",
              "68  {'sampling__k_neighbors': 90, 'classifier__n_e...         0.734320   \n",
              "28  {'sampling__k_neighbors': 90, 'classifier__n_e...         0.734320   \n",
              "58  {'sampling__k_neighbors': 90, 'classifier__n_e...         0.732454   \n",
              "57  {'sampling__k_neighbors': 90, 'classifier__n_e...         0.732454   \n",
              "34  {'sampling__k_neighbors': 90, 'classifier__n_e...         0.732454   \n",
              "\n",
              "    std_test_score  \n",
              "73             0.0  \n",
              "36             0.0  \n",
              "77             0.0  \n",
              "80             0.0  \n",
              "70             0.0  \n",
              "..             ...  \n",
              "68             0.0  \n",
              "28             0.0  \n",
              "58             0.0  \n",
              "57             0.0  \n",
              "34             0.0  \n",
              "\n",
              "[100 rows x 3 columns]"
            ]
          },
          "execution_count": 26,
          "metadata": {},
          "output_type": "execute_result"
        }
      ],
      "source": [
        "et_rnd_search.fit(np.concatenate([X_train_sample, X_val]), np.concatenate([y_train_sample, y_val]))\n",
        "pd.DataFrame(et_rnd_search.cv_results_)[['params', 'mean_test_score', 'std_test_score']].sort_values('mean_test_score', ascending=False)"
      ]
    },
    {
      "cell_type": "code",
      "execution_count": 30,
      "metadata": {
        "colab": {
          "base_uri": "https://localhost:8080/"
        },
        "id": "GbsMTs4Cj2Bu",
        "outputId": "0b5b3c9e-00d1-43d8-96ff-a0059b505ff0"
      },
      "outputs": [
        {
          "name": "stdout",
          "output_type": "stream",
          "text": [
            "Params:  {'sampling__k_neighbors': 90, 'classifier__n_estimators': 200, 'classifier__min_samples_split': 2, 'classifier__min_samples_leaf': 1, 'classifier__max_features': 8, 'classifier__max_depth': None}\n",
            "Accuracy:  0.8181696993934546\n",
            "------------------------------------------------------------ \n",
            "\n",
            "\n",
            "Params:  {'sampling__k_neighbors': 90, 'classifier__n_estimators': 200, 'classifier__min_samples_split': 2, 'classifier__min_samples_leaf': 1, 'classifier__max_features': 7, 'classifier__max_depth': None}\n",
            "Accuracy:  0.8169699393454642\n",
            "------------------------------------------------------------ \n",
            "\n",
            "\n",
            "Params:  {'sampling__k_neighbors': 90, 'classifier__n_estimators': 200, 'classifier__min_samples_split': 3, 'classifier__min_samples_leaf': 1, 'classifier__max_features': 7, 'classifier__max_depth': None}\n",
            "Accuracy:  0.8151036459374792\n",
            "------------------------------------------------------------ \n",
            "\n",
            "\n"
          ]
        }
      ],
      "source": [
        "# retrain top 3 best params on full train set\n",
        "top3_et_params = pd.DataFrame(et_rnd_search.cv_results_)[['params', 'mean_test_score', 'std_test_score']].sort_values('mean_test_score', ascending=False).head(3)['params'].values\n",
        "for params in top3_et_params:\n",
        "    et = create_pipeline_2()\n",
        "    et.set_params(**params)\n",
        "    et.fit(X_train, y_train)\n",
        "    y_pred = et.predict(X_val)\n",
        "    print('Params: ', params)\n",
        "    print('Accuracy: ', accuracy_score(y_val, y_pred))\n",
        "    print('---'*20, '\\n\\n')\n"
      ]
    },
    {
      "cell_type": "code",
      "execution_count": 29,
      "metadata": {
        "colab": {
          "base_uri": "https://localhost:8080/"
        },
        "id": "HglmArQRj73Z",
        "outputId": "d59efe1b-91ac-434c-8723-9c2e4298cdb4"
      },
      "outputs": [
        {
          "data": {
            "text/plain": [
              "{'sampling__k_neighbors': 90,\n",
              " 'classifier__n_estimators': 200,\n",
              " 'classifier__min_samples_split': 2,\n",
              " 'classifier__min_samples_leaf': 1,\n",
              " 'classifier__max_features': 8,\n",
              " 'classifier__max_depth': None}"
            ]
          },
          "execution_count": 29,
          "metadata": {},
          "output_type": "execute_result"
        }
      ],
      "source": []
    },
    {
      "cell_type": "markdown",
      "metadata": {
        "id": "BriODy9VngjJ"
      },
      "source": [
        "### Evaluate on test set"
      ]
    },
    {
      "cell_type": "code",
      "execution_count": 37,
      "metadata": {
        "id": "FOoKeN7DkZzB"
      },
      "outputs": [],
      "source": [
        "def report(model_name, y_test, y_pred):\n",
        "  print('Report for', model_name, ':\\n\\n', classification_report(y_test, y_pred))\n",
        "  # plot confusion matrix\n",
        "  cm = confusion_matrix(y_test, y_pred, normalize='true')\n",
        "  plt.figure(figsize=(10, 10))\n",
        "  sns.heatmap(cm, annot=True, fmt='.2f', cmap='Blues')\n",
        "  plt.title('Confusion matrix for ' + model_name)\n",
        "  plt.ylabel('True label')\n",
        "  plt.xlabel('Predicted label')\n",
        "  plt.show()\n",
        "  print('Accuracy: ', accuracy_score(y_test, y_pred))\n",
        "  print('-'*60)\n",
        "  print('\\n\\n\\n')"
      ]
    },
    {
      "cell_type": "code",
      "execution_count": null,
      "metadata": {
        "id": "X1HzlTfinwIl"
      },
      "outputs": [],
      "source": [
        "# Random Forest\n",
        "\n",
        "rf = create_pipeline_1()\n",
        "rf.set_params(\n",
        "    sampling__k_neighbors=90,\n",
        "    classifier__n_estimators=200,\n",
        "    classifier__max_depth=None,\n",
        "    classifier__min_samples_split=2,\n",
        "    classifier__min_samples_leaf=1,\n",
        "    classifier__max_features=7\n",
        ")\n",
        "rf.fit(X_train, y_train)"
      ]
    },
    {
      "cell_type": "code",
      "execution_count": 38,
      "metadata": {
        "colab": {
          "base_uri": "https://localhost:8080/",
          "height": 927
        },
        "id": "ep-qpDZqpmfI",
        "outputId": "81c4db27-1309-4051-d2e4-86ff00abcc4f"
      },
      "outputs": [
        {
          "name": "stdout",
          "output_type": "stream",
          "text": [
            "Report for Random Forest :\n",
            "\n",
            "               precision    recall  f1-score   support\n",
            "\n",
            "           0       0.79      0.85      0.82      2900\n",
            "           1       0.85      0.79      0.82      5317\n",
            "           2       0.74      0.80      0.77      1783\n",
            "\n",
            "    accuracy                           0.81     10000\n",
            "   macro avg       0.79      0.81      0.80     10000\n",
            "weighted avg       0.81      0.81      0.81     10000\n",
            "\n"
          ]
        },
        {
          "data": {
            "image/png": "[encoded data removed]",
            "text/plain": [
              "<Figure size 720x720 with 2 Axes>"
            ]
          },
          "metadata": {
            "needs_background": "light"
          },
          "output_type": "display_data"
        },
        {
          "name": "stdout",
          "output_type": "stream",
          "text": [
            "Accuracy:  0.8109\n",
            "------------------------------------------------------------\n",
            "\n",
            "\n",
            "\n",
            "\n"
          ]
        }
      ],
      "source": [
        "y_pred = rf.predict(X_test)\n",
        "report('Random Forest', y_test, y_pred)"
      ]
    },
    {
      "cell_type": "code",
      "execution_count": null,
      "metadata": {
        "id": "zjuuhoyLny0p"
      },
      "outputs": [],
      "source": [
        "# Extra Trees\n",
        "\n",
        "et = create_pipeline_2()\n",
        "et.set_params(\n",
        "    sampling__k_neighbors=90,\n",
        "    classifier__n_estimators=200,\n",
        "    classifier__max_depth=None,\n",
        "    classifier__min_samples_split=2,\n",
        "    classifier__min_samples_leaf=1,\n",
        "    classifier__max_features=8,\n",
        ")\n",
        "et.fit(X_train, y_train)"
      ]
    },
    {
      "cell_type": "code",
      "execution_count": 39,
      "metadata": {
        "colab": {
          "base_uri": "https://localhost:8080/",
          "height": 927
        },
        "id": "u3BtcAk1obyP",
        "outputId": "29f73f64-6094-4486-96e3-7470d2abe658"
      },
      "outputs": [
        {
          "name": "stdout",
          "output_type": "stream",
          "text": [
            "Report for Extra Trees :\n",
            "\n",
            "               precision    recall  f1-score   support\n",
            "\n",
            "           0       0.80      0.85      0.82      2900\n",
            "           1       0.85      0.81      0.83      5317\n",
            "           2       0.77      0.82      0.80      1783\n",
            "\n",
            "    accuracy                           0.82     10000\n",
            "   macro avg       0.81      0.83      0.82     10000\n",
            "weighted avg       0.82      0.82      0.82     10000\n",
            "\n"
          ]
        },
        {
          "data": {
            "image/png": "[encoded data removed]",
            "text/plain": [
              "<Figure size 720x720 with 2 Axes>"
            ]
          },
          "metadata": {
            "needs_background": "light"
          },
          "output_type": "display_data"
        },
        {
          "name": "stdout",
          "output_type": "stream",
          "text": [
            "Accuracy:  0.822\n",
            "------------------------------------------------------------\n",
            "\n",
            "\n",
            "\n",
            "\n"
          ]
        }
      ],
      "source": [
        "y_pred = et.predict(X_test)\n",
        "report('Extra Trees', y_test, y_pred)"
      ]
    },
    {
      "cell_type": "code",
      "execution_count": null,
      "metadata": {
        "id": "llpXfFHtqCvJ"
      },
      "outputs": [],
      "source": []
    }
  ],
  "metadata": {
    "colab": {
      "provenance": []
    },
    "kernelspec": {
      "display_name": "Python 3",
      "language": "python",
      "name": "python3"
    },
    "language_info": {
      "codemirror_mode": {
        "name": "ipython",
        "version": 3
      },
      "file_extension": ".py",
      "mimetype": "text/x-python",
      "name": "python",
      "nbconvert_exporter": "python",
      "pygments_lexer": "ipython3",
      "version": "3.10.7"
    },
    "orig_nbformat": 4,
    "vscode": {
      "interpreter": {
        "hash": "7e1998ff7f8aa20ada591c520b972326324e5ea05489af9e422744c7c09f6dad"
      }
    }
  },
  "nbformat": 4,
  "nbformat_minor": 0
}
